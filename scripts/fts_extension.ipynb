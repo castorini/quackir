{
 "cells": [
  {
   "cell_type": "code",
   "execution_count": 4,
   "metadata": {},
   "outputs": [
    {
     "name": "stdout",
     "output_type": "stream",
     "text": [
      "Collecting duckdb\n",
      "  Downloading duckdb-1.1.1-cp312-cp312-macosx_12_0_arm64.whl.metadata (762 bytes)\n",
      "Downloading duckdb-1.1.1-cp312-cp312-macosx_12_0_arm64.whl (15.5 MB)\n",
      "\u001b[2K   \u001b[90m━━━━━━━━━━━━━━━━━━━━━━━━━━━━━━━━━━━━━━━━\u001b[0m \u001b[32m15.5/15.5 MB\u001b[0m \u001b[31m527.5 kB/s\u001b[0m eta \u001b[36m0:00:00\u001b[0m00:01\u001b[0m00:01\u001b[0m\n",
      "\u001b[?25hInstalling collected packages: duckdb\n",
      "Successfully installed duckdb-1.1.1\n"
     ]
    }
   ],
   "source": [
    "!pip install duckdb"
   ]
  },
  {
   "cell_type": "code",
   "execution_count": 5,
   "metadata": {},
   "outputs": [],
   "source": [
    "import duckdb"
   ]
  },
  {
   "cell_type": "code",
   "execution_count": 7,
   "metadata": {},
   "outputs": [
    {
     "name": "stdout",
     "output_type": "stream",
     "text": [
      "[(1, 'Alice', 30), (2, 'Bob', 25), (3, 'Charlie', 35)]\n"
     ]
    }
   ],
   "source": [
    "# Create an in-memory database connection\n",
    "conn = duckdb.connect(database=':memory:')\n",
    "\n",
    "# Create a table\n",
    "conn.execute(\"\"\"\n",
    "CREATE TABLE users (\n",
    "    id INTEGER,\n",
    "    name STRING,\n",
    "    age INTEGER\n",
    ")\n",
    "\"\"\")\n",
    "\n",
    "# Insert some data\n",
    "conn.execute(\"\"\"\n",
    "INSERT INTO users VALUES \n",
    "(1, 'Alice', 30),\n",
    "(2, 'Bob', 25),\n",
    "(3, 'Charlie', 35)\n",
    "\"\"\")\n",
    "\n",
    "# Query the table\n",
    "result = conn.execute(\"SELECT * FROM users\").fetchall()\n",
    "\n",
    "# Print the result\n",
    "print(result)"
   ]
  },
  {
   "cell_type": "code",
   "execution_count": 20,
   "metadata": {},
   "outputs": [
    {
     "data": {
      "text/plain": [
       "<duckdb.duckdb.DuckDBPyConnection at 0x107e79870>"
      ]
     },
     "execution_count": 20,
     "metadata": {},
     "output_type": "execute_result"
    }
   ],
   "source": [
    "import duckdb\n",
    "conn = duckdb.connect(database=':memory:')\n",
    "conn.execute(\"\"\"\n",
    "INSTALL fts;\n",
    "LOAD fts;\n",
    "CREATE TABLE documents (\n",
    "    document_identifier VARCHAR,\n",
    "    text_content VARCHAR,\n",
    "    author VARCHAR,\n",
    "    doc_version INTEGER\n",
    ");\n",
    "\"\"\")"
   ]
  },
  {
   "cell_type": "code",
   "execution_count": 21,
   "metadata": {},
   "outputs": [
    {
     "data": {
      "text/plain": [
       "<duckdb.duckdb.DuckDBPyConnection at 0x107e79870>"
      ]
     },
     "execution_count": 21,
     "metadata": {},
     "output_type": "execute_result"
    }
   ],
   "source": [
    "conn.execute(\"\"\"\n",
    "INSERT INTO documents\n",
    "    VALUES ('doc1',\n",
    "            'The mallard is a dabbling duck that breeds throughout the temperate.',\n",
    "            'Hannes Mühleisen',\n",
    "            3),\n",
    "           ('doc2',\n",
    "            'The cat is a domestic species of small carnivorous mammal.',\n",
    "            'Laurens Kuiper',\n",
    "            2\n",
    "           );\n",
    "\"\"\")"
   ]
  },
  {
   "cell_type": "code",
   "execution_count": 22,
   "metadata": {},
   "outputs": [
    {
     "data": {
      "text/plain": [
       "<duckdb.duckdb.DuckDBPyConnection at 0x107e79870>"
      ]
     },
     "execution_count": 22,
     "metadata": {},
     "output_type": "execute_result"
    }
   ],
   "source": [
    "conn.execute(\"\"\"PRAGMA create_fts_index(\n",
    "    'documents', 'document_identifier', 'text_content', 'author'\n",
    ");\"\"\")"
   ]
  },
  {
   "cell_type": "code",
   "execution_count": 30,
   "metadata": {},
   "outputs": [
    {
     "data": {
      "text/plain": [
       "[('doc1',\n",
       "  'The mallard is a dabbling duck that breeds throughout the temperate.',\n",
       "  0.3094700890003546)]"
      ]
     },
     "execution_count": 30,
     "metadata": {},
     "output_type": "execute_result"
    }
   ],
   "source": [
    "conn.execute(\"\"\"\n",
    "SELECT document_identifier, text_content, score\n",
    "FROM (\n",
    "    SELECT *, fts_main_documents.match_bm25(\n",
    "        document_identifier,\n",
    "        'Muhleisen',\n",
    "        fields := 'author'\n",
    "    ) AS score\n",
    "    FROM documents\n",
    ") sq\n",
    "WHERE score IS NOT NULL\n",
    "  AND doc_version > 2\n",
    "ORDER BY score DESC;\n",
    "\"\"\").fetchall()"
   ]
  },
  {
   "cell_type": "code",
   "execution_count": 31,
   "metadata": {},
   "outputs": [
    {
     "data": {
      "text/plain": [
       "[('doc2',\n",
       "  'The cat is a domestic species of small carnivorous mammal.',\n",
       "  0.5860760977528838)]"
      ]
     },
     "execution_count": 31,
     "metadata": {},
     "output_type": "execute_result"
    }
   ],
   "source": [
    "conn.execute(\"\"\"\n",
    "SELECT document_identifier, text_content, score\n",
    "FROM (\n",
    "    SELECT *, fts_main_documents.match_bm25(\n",
    "        document_identifier,\n",
    "        'small cats'\n",
    "    ) AS score\n",
    "    FROM documents\n",
    ") sq\n",
    "WHERE score IS NOT NULL\n",
    "ORDER BY score DESC;\n",
    "\"\"\").fetchall()"
   ]
  },
  {
   "cell_type": "code",
   "execution_count": null,
   "metadata": {},
   "outputs": [],
   "source": []
  }
 ],
 "metadata": {
  "kernelspec": {
   "display_name": "base",
   "language": "python",
   "name": "python3"
  },
  "language_info": {
   "codemirror_mode": {
    "name": "ipython",
    "version": 3
   },
   "file_extension": ".py",
   "mimetype": "text/x-python",
   "name": "python",
   "nbconvert_exporter": "python",
   "pygments_lexer": "ipython3",
   "version": "3.12.5"
  }
 },
 "nbformat": 4,
 "nbformat_minor": 2
}
